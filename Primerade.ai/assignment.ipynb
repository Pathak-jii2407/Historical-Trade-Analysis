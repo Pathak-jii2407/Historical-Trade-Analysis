{
 "cells": [
  {
   "cell_type": "markdown",
   "metadata": {
    "notebookRunGroups": {
     "groupValue": "1"
    }
   },
   "source": [
    "## importing libraries"
   ]
  },
  {
   "cell_type": "code",
   "execution_count": 16,
   "metadata": {},
   "outputs": [],
   "source": [
    "import pandas as pd\n",
    "import ast\n"
   ]
  },
  {
   "cell_type": "markdown",
   "metadata": {},
   "source": [
    "## Load Dataset &  Handle missing values"
   ]
  },
  {
   "cell_type": "code",
   "execution_count": 4,
   "metadata": {},
   "outputs": [
    {
     "name": "stdout",
     "output_type": "stream",
     "text": [
      "<class 'pandas.core.frame.DataFrame'>\n",
      "RangeIndex: 150 entries, 0 to 149\n",
      "Data columns (total 2 columns):\n",
      " #   Column         Non-Null Count  Dtype \n",
      "---  ------         --------------  ----- \n",
      " 0   Port_IDs       150 non-null    int64 \n",
      " 1   Trade_History  149 non-null    object\n",
      "dtypes: int64(1), object(1)\n",
      "memory usage: 2.5+ KB\n",
      "None\n",
      "              Port_IDs                                      Trade_History\n",
      "0  3925368433214965504  [{'time': 1718899656000, 'symbol': 'SOLUSDT', ...\n",
      "1  4002413037164645377  [{'time': 1718980078000, 'symbol': 'NEARUSDT',...\n",
      "2  3923766029921022977  [{'time': 1718677164000, 'symbol': 'ETHUSDT', ...\n",
      "3  3994879592543698688  [{'time': 1718678214000, 'symbol': 'ETHUSDT', ...\n",
      "4  3926423286576838657  [{'time': 1718979615000, 'symbol': 'ETHUSDT', ...\n"
     ]
    }
   ],
   "source": [
    "df = pd.read_csv('TRADES_CopyTr_90D_ROI.csv')\n",
    "\n",
    "# Inspect data\n",
    "print(df.info())\n",
    "print(df.head())\n",
    "\n",
    "df = df.dropna()\n"
   ]
  },
  {
   "cell_type": "code",
   "execution_count": 6,
   "metadata": {},
   "outputs": [],
   "source": [
    "\n",
    "df = pd.read_csv(r'TRADES_CopyTr_90D_ROI.csv')\n",
    "\n",
    "\n",
    "def extract_trade_details(trade_history_str):\n",
    "    # Check for NaN or empty entries\n",
    "    if pd.isna(trade_history_str):\n",
    "        return pd.Series([None] * 7)  # Return None for all expected columns\n",
    "\n",
    "    try:\n",
    "        # Convert the string representation of the list of trades to a list\n",
    "        trade_history = ast.literal_eval(trade_history_str)\n",
    "\n",
    "        # Initialize variables for calculations\n",
    "        total_investment = 0\n",
    "        total_realized_profit = 0\n",
    "        win_positions = 0\n",
    "        total_positions = len(trade_history)\n",
    "        profits = []\n",
    "\n",
    "        for trade in trade_history:\n",
    "            # Extract relevant trade details\n",
    "            price = trade.get('price', 0)\n",
    "            quantity = trade.get('quantity', 0)\n",
    "            side = trade.get('side', None)  # Assume side is either 'BUY' or 'SELL'\n",
    "\n",
    "            # Calculate PnL for BUY trades\n",
    "            if side == 'BUY':\n",
    "                total_investment += price * quantity\n",
    "            elif side == 'SELL':\n",
    "                realized_profit = price * quantity - total_investment\n",
    "                total_realized_profit += realized_profit\n",
    "                profits.append(realized_profit)\n",
    "                \n",
    "                # Count win positions\n",
    "                if realized_profit > 0:\n",
    "                    win_positions += 1\n",
    "\n",
    "        # Calculate metrics\n",
    "        roi = (total_realized_profit / total_investment * 100) if total_investment > 0 else None\n",
    "        pnl = total_realized_profit\n",
    "        win_rate = (win_positions / total_positions * 100) if total_positions > 0 else None\n",
    "        sharpe_ratio = None  # Implement if you have the standard deviation of returns\n",
    "        mdd = None  # Implement if you have the maximum drawdown logic\n",
    "\n",
    "    except (ValueError, SyntaxError) as e:\n",
    "        return pd.Series([None] * 7)\n",
    "    \n",
    "    return pd.Series([roi, pnl, sharpe_ratio, mdd, win_rate, win_positions, total_positions])\n",
    "\n",
    "# Example usage:\n",
    "# Assuming df is your DataFrame and Trade_History is the column containing the trades\n",
    "df[['ROI', 'PnL', 'Sharpe Ratio', 'MDD', 'Win Rate', 'Win Positions', 'Total Positions']] = df['Trade_History'].apply(extract_trade_details)\n",
    "\n"
   ]
  },
  {
   "cell_type": "code",
   "execution_count": null,
   "metadata": {},
   "outputs": [],
   "source": []
  },
  {
   "cell_type": "markdown",
   "metadata": {},
   "source": [
    "# Assignment: Historical Trade Data Analysis\n",
    "\n",
    "## 1. Data Exploration and Cleaning\n",
    "\n",
    "### Import Required Libraries\n",
    "```python\n"
   ]
  },
  {
   "cell_type": "code",
   "execution_count": 9,
   "metadata": {},
   "outputs": [],
   "source": [
    "import pandas as pd\n",
    "import ast\n"
   ]
  },
  {
   "cell_type": "markdown",
   "metadata": {},
   "source": [
    "# Load the dataset"
   ]
  },
  {
   "cell_type": "code",
   "execution_count": 10,
   "metadata": {},
   "outputs": [
    {
     "name": "stdout",
     "output_type": "stream",
     "text": [
      "              Port_IDs                                      Trade_History\n",
      "0  3925368433214965504  [{'time': 1718899656000, 'symbol': 'SOLUSDT', ...\n",
      "1  4002413037164645377  [{'time': 1718980078000, 'symbol': 'NEARUSDT',...\n",
      "2  3923766029921022977  [{'time': 1718677164000, 'symbol': 'ETHUSDT', ...\n",
      "3  3994879592543698688  [{'time': 1718678214000, 'symbol': 'ETHUSDT', ...\n",
      "4  3926423286576838657  [{'time': 1718979615000, 'symbol': 'ETHUSDT', ...\n",
      "<class 'pandas.core.frame.DataFrame'>\n",
      "RangeIndex: 150 entries, 0 to 149\n",
      "Data columns (total 2 columns):\n",
      " #   Column         Non-Null Count  Dtype \n",
      "---  ------         --------------  ----- \n",
      " 0   Port_IDs       150 non-null    int64 \n",
      " 1   Trade_History  149 non-null    object\n",
      "dtypes: int64(1), object(1)\n",
      "memory usage: 2.5+ KB\n",
      "None\n"
     ]
    }
   ],
   "source": [
    "df = pd.read_csv('Trade.csv')\n",
    "\n",
    "# Inspect the dataset\n",
    "print(df.head())\n",
    "print(df.info())\n"
   ]
  },
  {
   "cell_type": "markdown",
   "metadata": {},
   "source": [
    "# Check for missing values"
   ]
  },
  {
   "cell_type": "code",
   "execution_count": 11,
   "metadata": {},
   "outputs": [
    {
     "name": "stdout",
     "output_type": "stream",
     "text": [
      "Port_IDs         0\n",
      "Trade_History    1\n",
      "dtype: int64\n"
     ]
    }
   ],
   "source": [
    "missing_values = df.isnull().sum()\n",
    "print(missing_values)\n",
    "\n",
    "# Handle missing values (example: fill with 0 or drop)\n",
    "df.fillna(0, inplace=True)  # Adjust as necessary"
   ]
  },
  {
   "cell_type": "markdown",
   "metadata": {},
   "source": [
    "# Feature Engineering\n",
    "## Extract Trade Details Function"
   ]
  },
  {
   "cell_type": "code",
   "execution_count": 12,
   "metadata": {},
   "outputs": [],
   "source": [
    "def extract_trade_details(trade_history_str):\n",
    "    # Check for NaN or empty entries\n",
    "    if pd.isna(trade_history_str):\n",
    "        return pd.Series([None] * 7)  # Return None for all expected columns\n",
    "\n",
    "    try:\n",
    "        # Convert the string representation of the list of trades to a list\n",
    "        trade_history = ast.literal_eval(trade_history_str)\n",
    "\n",
    "        # Initialize variables for calculations\n",
    "        total_investment = 0\n",
    "        total_realized_profit = 0\n",
    "        win_positions = 0\n",
    "        total_positions = len(trade_history)\n",
    "        profits = []\n",
    "\n",
    "        for trade in trade_history:\n",
    "            # Extract relevant trade details\n",
    "            price = trade.get('price', 0)\n",
    "            quantity = trade.get('quantity', 0)\n",
    "            side = trade.get('side', None)  # Assume side is either 'BUY' or 'SELL'\n",
    "\n",
    "            # Calculate PnL for BUY trades\n",
    "            if side == 'BUY':\n",
    "                total_investment += price * quantity\n",
    "            elif side == 'SELL':\n",
    "                realized_profit = price * quantity - total_investment\n",
    "                total_realized_profit += realized_profit\n",
    "                profits.append(realized_profit)\n",
    "                \n",
    "                # Count win positions\n",
    "                if realized_profit > 0:\n",
    "                    win_positions += 1\n",
    "\n",
    "        # Calculate metrics\n",
    "        roi = (total_realized_profit / total_investment * 100) if total_investment > 0 else None\n",
    "        pnl = total_realized_profit\n",
    "        win_rate = (win_positions / total_positions * 100) if total_positions > 0 else None\n",
    "        sharpe_ratio = None  # Implement if you have the standard deviation of returns\n",
    "        mdd = None  # Implement if you have the maximum drawdown logic\n",
    "\n",
    "    except (ValueError, SyntaxError) as e:\n",
    "        return pd.Series([None] * 7)\n",
    "    \n",
    "    return pd.Series([roi, pnl, sharpe_ratio, mdd, win_rate, win_positions, total_positions])\n"
   ]
  },
  {
   "cell_type": "markdown",
   "metadata": {},
   "source": [
    "# Apply the extraction function to the Trade_History column\n",
    "\n"
   ]
  },
  {
   "cell_type": "code",
   "execution_count": 13,
   "metadata": {},
   "outputs": [],
   "source": [
    "df[['ROI', 'PnL', 'Sharpe Ratio', 'MDD', 'Win Rate', 'Win Positions', 'Total Positions']] = df['Trade_History'].apply(extract_trade_details)"
   ]
  },
  {
   "cell_type": "markdown",
   "metadata": {},
   "source": [
    "# Example ranking based on ROI\n",
    "\n"
   ]
  },
  {
   "cell_type": "code",
   "execution_count": 14,
   "metadata": {},
   "outputs": [
    {
     "name": "stdout",
     "output_type": "stream",
     "text": [
      "                Port_IDs           ROI           PnL   Win Rate\n",
      "149  3768170840939476993  2.771015e+06  5.797555e+05   7.142857\n",
      "60   3936410995029308417  1.876588e+02  2.017974e+10  40.000000\n",
      "126  4040382575336130560  0.000000e+00  0.000000e+00   0.000000\n",
      "73   4004410127575640832 -4.380236e+01 -6.806137e+07   0.394477\n",
      "81   3944658614777849089 -6.061984e+01 -5.271250e+08  40.000000\n",
      "40   4035430878731345664 -9.419455e+01 -9.455858e+07  30.337079\n",
      "69   3910887259807777281 -1.708037e+02 -8.099425e+09   4.000000\n",
      "110  4029507714735307777 -2.035758e+02 -1.350480e+04   1.886792\n",
      "66   3991414786174551297 -5.036836e+02 -6.134712e+09  10.610932\n",
      "46   3977234346014419201 -7.645926e+02 -2.337707e+04   4.819277\n",
      "27   4033639786957934336 -1.012341e+03 -7.499578e+09   0.671141\n",
      "131  3826087012661391104 -1.173939e+03 -9.940933e+07   0.925926\n",
      "96   4004713168329653760 -1.236358e+03 -4.850213e+04   0.000000\n",
      "71   4037179073830813185 -1.296929e+03 -8.202135e+09   2.739726\n",
      "18   4023697881318718465 -1.305157e+03 -1.273248e+05   1.428571\n",
      "4    3926423286576838657 -1.322409e+03 -1.287956e+11   0.836820\n",
      "45   4029506971304830209 -1.614669e+03 -8.329737e+04   0.000000\n",
      "83   3819545518395756033 -1.749215e+03 -8.206004e+10   0.000000\n",
      "30   4030565764341697025 -1.912712e+03 -1.115315e+10   0.000000\n",
      "50   4028427053699127040 -1.970078e+03 -1.247371e+10   0.000000\n"
     ]
    }
   ],
   "source": [
    "ranked_df = df.sort_values(by='ROI', ascending=False)\n",
    "\n",
    "# Get top 20 accounts\n",
    "top_20_accounts = ranked_df.head(20)\n",
    "\n",
    "# Display the top 20 accounts\n",
    "print(top_20_accounts[['Port_IDs', 'ROI', 'PnL', 'Win Rate']])"
   ]
  },
  {
   "cell_type": "markdown",
   "metadata": {},
   "source": [
    "# Save the metrics to a CSV file\n"
   ]
  },
  {
   "cell_type": "code",
   "execution_count": 15,
   "metadata": {},
   "outputs": [],
   "source": [
    "df.to_csv('calculated_metrics.csv', index=False)\n"
   ]
  },
  {
   "cell_type": "markdown",
   "metadata": {},
   "source": [
    "# Report Summary\n",
    "\n",
    "- **Methodology**: Describe the approach taken to extract trade details and calculate metrics.\n",
    "- **Findings**: Include insights from the calculated metrics.\n",
    "- **Assumptions**: Document any assumptions made during the analysis.\n"
   ]
  }
 ],
 "metadata": {
  "kernelspec": {
   "display_name": "Python 3",
   "language": "python",
   "name": "python3"
  },
  "language_info": {
   "codemirror_mode": {
    "name": "ipython",
    "version": 3
   },
   "file_extension": ".py",
   "mimetype": "text/x-python",
   "name": "python",
   "nbconvert_exporter": "python",
   "pygments_lexer": "ipython3",
   "version": "3.11.9"
  }
 },
 "nbformat": 4,
 "nbformat_minor": 2
}
